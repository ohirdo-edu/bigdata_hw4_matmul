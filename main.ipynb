{
 "cells": [
  {
   "cell_type": "code",
   "execution_count": 1,
   "id": "cb5c8446fcb4370a",
   "metadata": {
    "collapsed": false,
    "ExecuteTime": {
     "end_time": "2023-11-28T22:14:59.095805Z",
     "start_time": "2023-11-28T22:14:59.020319Z"
    }
   },
   "outputs": [],
   "source": [
    "import numpy as np\n",
    "from pathlib import Path"
   ]
  },
  {
   "cell_type": "code",
   "execution_count": 2,
   "outputs": [],
   "source": [
    "DATA_DIR = Path('data')\n",
    "INPUT_FILE_A = DATA_DIR / 'input_a.txt'\n",
    "INPUT_FILE_B = DATA_DIR / 'input_b.txt'\n",
    "OUTPUT_FILE = DATA_DIR / 'out.txt'"
   ],
   "metadata": {
    "collapsed": false,
    "ExecuteTime": {
     "end_time": "2023-11-28T22:14:59.122514Z",
     "start_time": "2023-11-28T22:14:59.110687Z"
    }
   },
   "id": "70c558170cf0d0b6"
  },
  {
   "cell_type": "code",
   "execution_count": 3,
   "outputs": [],
   "source": [
    "DATA_DIR.mkdir(parents=True, exist_ok=True)"
   ],
   "metadata": {
    "collapsed": false,
    "ExecuteTime": {
     "end_time": "2023-11-28T22:14:59.126144Z",
     "start_time": "2023-11-28T22:14:59.119704Z"
    }
   },
   "id": "c6ee454dafe10c4f"
  },
  {
   "cell_type": "code",
   "execution_count": 4,
   "id": "6b93128d6c318eaf",
   "metadata": {
    "collapsed": false,
    "ExecuteTime": {
     "end_time": "2023-11-28T22:14:59.131816Z",
     "start_time": "2023-11-28T22:14:59.127095Z"
    }
   },
   "outputs": [],
   "source": [
    "def write_matrix(matrix, label: str, file_name: Path):\n",
    "    n_rows, n_cols = matrix.shape\n",
    "    with open(file_name, 'w') as f:\n",
    "        for row in range(n_rows):\n",
    "            f.write(f\"{label} {row} {' '.join(map(str, matrix[row]))}\\n\")"
   ]
  },
  {
   "cell_type": "code",
   "execution_count": 5,
   "id": "dd6a00ea40c2e90f",
   "metadata": {
    "collapsed": false,
    "ExecuteTime": {
     "end_time": "2023-11-28T22:14:59.145539Z",
     "start_time": "2023-11-28T22:14:59.143922Z"
    }
   },
   "outputs": [],
   "source": [
    "def read_matrix(file_name: Path):\n",
    "    values = {}\n",
    "    max_row = 0\n",
    "    max_col = 0\n",
    "    with open(file_name, 'r') as f:\n",
    "        for line in f:\n",
    "            _, raw_row, *raw_values = line.split()\n",
    "            row = int(raw_row)\n",
    "            for col, raw_value in enumerate(raw_values):\n",
    "                max_row = max(max_row, row)\n",
    "                max_col = max(max_col, col)\n",
    "                values[(row, col)] = float(raw_value)\n",
    "    result = np.zeros((max_row + 1, max_col + 1), dtype=np.float64)\n",
    "    for (r, c), val in values.items():\n",
    "        result[r, c] = val\n",
    "    return result"
   ]
  },
  {
   "cell_type": "code",
   "execution_count": 6,
   "id": "initial_id",
   "metadata": {
    "ExecuteTime": {
     "end_time": "2023-11-28T22:14:59.152341Z",
     "start_time": "2023-11-28T22:14:59.148247Z"
    }
   },
   "outputs": [],
   "source": [
    "test_a = np.array([\n",
    "    [1, 2, 3],\n",
    "    [4, 5, 6],\n",
    "])\n",
    "\n",
    "test_b = np.array([\n",
    "    [7, 10, 13, 16],\n",
    "    [8, 11, 14, 17],\n",
    "    [9, 12, 15, 18],\n",
    "])"
   ]
  },
  {
   "cell_type": "code",
   "execution_count": 7,
   "id": "86505143aeaeeb4c",
   "metadata": {
    "collapsed": false,
    "ExecuteTime": {
     "end_time": "2023-11-28T22:14:59.159898Z",
     "start_time": "2023-11-28T22:14:59.154736Z"
    }
   },
   "outputs": [],
   "source": [
    "write_matrix(test_a, label='a', file_name=INPUT_FILE_A)\n",
    "write_matrix(test_b, label='b', file_name=INPUT_FILE_B)"
   ]
  },
  {
   "cell_type": "code",
   "execution_count": 8,
   "id": "c701eb61-05e4-4d33-be8d-a2b94939544f",
   "metadata": {
    "ExecuteTime": {
     "end_time": "2023-11-28T22:14:59.277461Z",
     "start_time": "2023-11-28T22:14:59.161243Z"
    }
   },
   "outputs": [
    {
     "name": "stdout",
     "output_type": "stream",
     "text": [
      "a 0 1 2 3\r\n",
      "a 1 4 5 6\r\n"
     ]
    }
   ],
   "source": [
    "!cat {INPUT_FILE_A}"
   ]
  },
  {
   "cell_type": "code",
   "execution_count": 9,
   "id": "c74f8a1d-e6fd-4052-b31d-1ec2ccb7e7c5",
   "metadata": {
    "ExecuteTime": {
     "end_time": "2023-11-28T22:14:59.396430Z",
     "start_time": "2023-11-28T22:14:59.278419Z"
    }
   },
   "outputs": [
    {
     "name": "stdout",
     "output_type": "stream",
     "text": [
      "b 0 7 10 13 16\r\n",
      "b 1 8 11 14 17\r\n",
      "b 2 9 12 15 18\r\n"
     ]
    }
   ],
   "source": [
    "!cat {INPUT_FILE_B}"
   ]
  },
  {
   "cell_type": "code",
   "execution_count": 10,
   "id": "93498ab9e4b436bc",
   "metadata": {
    "collapsed": false,
    "ExecuteTime": {
     "end_time": "2023-11-28T22:14:59.762008Z",
     "start_time": "2023-11-28T22:14:59.397585Z"
    }
   },
   "outputs": [
    {
     "name": "stdout",
     "output_type": "stream",
     "text": [
      "No configs found; falling back on auto-configuration\r\n",
      "No configs specified for inline runner\r\n",
      "Creating temp directory /var/folders/3t/5b1h1gs502j7fgrmnwh4ztr00000gn/T/matmul.sonner.20231128.221459.502906\r\n",
      "Running step 1 of 3...\r\n",
      "Running step 2 of 3...\r\n",
      "Running step 3 of 3...\r\n",
      "job output is in /var/folders/3t/5b1h1gs502j7fgrmnwh4ztr00000gn/T/matmul.sonner.20231128.221459.502906/output\r\n",
      "Streaming final output from /var/folders/3t/5b1h1gs502j7fgrmnwh4ztr00000gn/T/matmul.sonner.20231128.221459.502906/output...\r\n",
      "Removing temp directory /var/folders/3t/5b1h1gs502j7fgrmnwh4ztr00000gn/T/matmul.sonner.20231128.221459.502906...\r\n"
     ]
    }
   ],
   "source": [
    "!python matmul.py {INPUT_FILE_A} {INPUT_FILE_B} --first_dim 2 --mid_dim 3 --last_dim 4 > {OUTPUT_FILE}"
   ]
  },
  {
   "cell_type": "code",
   "execution_count": 11,
   "id": "3be8d1a2-731c-431d-9c55-bf8b27c6a261",
   "metadata": {
    "ExecuteTime": {
     "end_time": "2023-11-28T22:14:59.883018Z",
     "start_time": "2023-11-28T22:14:59.763362Z"
    }
   },
   "outputs": [
    {
     "name": "stdout",
     "output_type": "stream",
     "text": [
      "out 1 122.0 167.0 212.0 257.0\r\n",
      "out 0 50.0 68.0 86.0 104.0\r\n"
     ]
    }
   ],
   "source": [
    "!cat {OUTPUT_FILE}"
   ]
  },
  {
   "cell_type": "code",
   "execution_count": 12,
   "id": "fc010eeecbe74d49",
   "metadata": {
    "collapsed": false,
    "ExecuteTime": {
     "end_time": "2023-11-28T22:14:59.888997Z",
     "start_time": "2023-11-28T22:14:59.884265Z"
    }
   },
   "outputs": [
    {
     "data": {
      "text/plain": "array([[ 50.,  68.,  86., 104.],\n       [122., 167., 212., 257.]])"
     },
     "execution_count": 12,
     "metadata": {},
     "output_type": "execute_result"
    }
   ],
   "source": [
    "read_matrix(OUTPUT_FILE)"
   ]
  },
  {
   "cell_type": "code",
   "execution_count": 13,
   "id": "2244556ec6761711",
   "metadata": {
    "collapsed": false,
    "ExecuteTime": {
     "end_time": "2023-11-28T22:14:59.893255Z",
     "start_time": "2023-11-28T22:14:59.890286Z"
    }
   },
   "outputs": [
    {
     "data": {
      "text/plain": "array([[ 50,  68,  86, 104],\n       [122, 167, 212, 257]])"
     },
     "execution_count": 13,
     "metadata": {},
     "output_type": "execute_result"
    }
   ],
   "source": [
    "test_a @ test_b"
   ]
  }
 ],
 "metadata": {
  "kernelspec": {
   "display_name": "Python 3 (ipykernel)",
   "language": "python",
   "name": "python3"
  },
  "language_info": {
   "codemirror_mode": {
    "name": "ipython",
    "version": 3
   },
   "file_extension": ".py",
   "mimetype": "text/x-python",
   "name": "python",
   "nbconvert_exporter": "python",
   "pygments_lexer": "ipython3",
   "version": "3.11.4"
  }
 },
 "nbformat": 4,
 "nbformat_minor": 5
}
